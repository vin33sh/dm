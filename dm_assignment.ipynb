{
  "nbformat": 4,
  "nbformat_minor": 0,
  "metadata": {
    "colab": {
      "name": "dm-assignment2.ipynb",
      "provenance": [],
      "collapsed_sections": []
    },
    "kernelspec": {
      "name": "python3",
      "display_name": "Python 3"
    }
  },
  "cells": [
    {
      "cell_type": "markdown",
      "metadata": {
        "id": "BIKGvBhZSHNc",
        "colab_type": "text"
      },
      "source": [
        "# Assignment : Loan Approval Modeling using Logistic Regression"
      ]
    },
    {
      "cell_type": "code",
      "metadata": {
        "id": "E-mxKAzfFVWu",
        "colab_type": "code",
        "colab": {}
      },
      "source": [
        "import pandas as pd\n",
        "import numpy as np\n",
        "import seaborn as sns\n",
        "import matplotlib.pyplot as plt\n",
        "% matplotlib inline\n",
        "import math"
      ],
      "execution_count": 58,
      "outputs": []
    },
    {
      "cell_type": "code",
      "metadata": {
        "id": "cUM2XymlJOAz",
        "colab_type": "code",
        "colab": {}
      },
      "source": [
        "dataset = pd.read_csv('https://raw.githubusercontent.com/vin33sh/dm/master/loan.csv');"
      ],
      "execution_count": 59,
      "outputs": []
    },
    {
      "cell_type": "markdown",
      "metadata": {
        "id": "ZkzIekFYMlGh",
        "colab_type": "text"
      },
      "source": [
        "# Data Analysis"
      ]
    },
    {
      "cell_type": "code",
      "metadata": {
        "id": "QEgQIwRNJ55y",
        "colab_type": "code",
        "colab": {
          "base_uri": "https://localhost:8080/",
          "height": 241
        },
        "outputId": "22341661-af93-467c-97da-da7ddb2ea6eb"
      },
      "source": [
        "dataset.head()"
      ],
      "execution_count": 60,
      "outputs": [
        {
          "output_type": "execute_result",
          "data": {
            "text/html": [
              "<div>\n",
              "<style scoped>\n",
              "    .dataframe tbody tr th:only-of-type {\n",
              "        vertical-align: middle;\n",
              "    }\n",
              "\n",
              "    .dataframe tbody tr th {\n",
              "        vertical-align: top;\n",
              "    }\n",
              "\n",
              "    .dataframe thead th {\n",
              "        text-align: right;\n",
              "    }\n",
              "</style>\n",
              "<table border=\"1\" class=\"dataframe\">\n",
              "  <thead>\n",
              "    <tr style=\"text-align: right;\">\n",
              "      <th></th>\n",
              "      <th>Loan_ID</th>\n",
              "      <th>Gender</th>\n",
              "      <th>Married</th>\n",
              "      <th>Dependents</th>\n",
              "      <th>Education</th>\n",
              "      <th>Self_Employed</th>\n",
              "      <th>ApplicantIncome</th>\n",
              "      <th>CoapplicantIncome</th>\n",
              "      <th>LoanAmount</th>\n",
              "      <th>Loan_Amount_Term</th>\n",
              "      <th>Credit_History</th>\n",
              "      <th>Property_Area</th>\n",
              "      <th>Loan_Status</th>\n",
              "    </tr>\n",
              "  </thead>\n",
              "  <tbody>\n",
              "    <tr>\n",
              "      <th>0</th>\n",
              "      <td>LP001002</td>\n",
              "      <td>Male</td>\n",
              "      <td>No</td>\n",
              "      <td>0</td>\n",
              "      <td>Graduate</td>\n",
              "      <td>No</td>\n",
              "      <td>5849</td>\n",
              "      <td>0.0</td>\n",
              "      <td>NaN</td>\n",
              "      <td>360.0</td>\n",
              "      <td>1.0</td>\n",
              "      <td>Urban</td>\n",
              "      <td>Y</td>\n",
              "    </tr>\n",
              "    <tr>\n",
              "      <th>1</th>\n",
              "      <td>LP001003</td>\n",
              "      <td>Male</td>\n",
              "      <td>Yes</td>\n",
              "      <td>1</td>\n",
              "      <td>Graduate</td>\n",
              "      <td>No</td>\n",
              "      <td>4583</td>\n",
              "      <td>1508.0</td>\n",
              "      <td>128.0</td>\n",
              "      <td>360.0</td>\n",
              "      <td>1.0</td>\n",
              "      <td>Rural</td>\n",
              "      <td>N</td>\n",
              "    </tr>\n",
              "    <tr>\n",
              "      <th>2</th>\n",
              "      <td>LP001005</td>\n",
              "      <td>Male</td>\n",
              "      <td>Yes</td>\n",
              "      <td>0</td>\n",
              "      <td>Graduate</td>\n",
              "      <td>Yes</td>\n",
              "      <td>3000</td>\n",
              "      <td>0.0</td>\n",
              "      <td>66.0</td>\n",
              "      <td>360.0</td>\n",
              "      <td>1.0</td>\n",
              "      <td>Urban</td>\n",
              "      <td>Y</td>\n",
              "    </tr>\n",
              "    <tr>\n",
              "      <th>3</th>\n",
              "      <td>LP001006</td>\n",
              "      <td>Male</td>\n",
              "      <td>Yes</td>\n",
              "      <td>0</td>\n",
              "      <td>Not Graduate</td>\n",
              "      <td>No</td>\n",
              "      <td>2583</td>\n",
              "      <td>2358.0</td>\n",
              "      <td>120.0</td>\n",
              "      <td>360.0</td>\n",
              "      <td>1.0</td>\n",
              "      <td>Urban</td>\n",
              "      <td>Y</td>\n",
              "    </tr>\n",
              "    <tr>\n",
              "      <th>4</th>\n",
              "      <td>LP001008</td>\n",
              "      <td>Male</td>\n",
              "      <td>No</td>\n",
              "      <td>0</td>\n",
              "      <td>Graduate</td>\n",
              "      <td>No</td>\n",
              "      <td>6000</td>\n",
              "      <td>0.0</td>\n",
              "      <td>141.0</td>\n",
              "      <td>360.0</td>\n",
              "      <td>1.0</td>\n",
              "      <td>Urban</td>\n",
              "      <td>Y</td>\n",
              "    </tr>\n",
              "  </tbody>\n",
              "</table>\n",
              "</div>"
            ],
            "text/plain": [
              "    Loan_ID Gender Married  ... Credit_History Property_Area Loan_Status\n",
              "0  LP001002   Male      No  ...            1.0         Urban           Y\n",
              "1  LP001003   Male     Yes  ...            1.0         Rural           N\n",
              "2  LP001005   Male     Yes  ...            1.0         Urban           Y\n",
              "3  LP001006   Male     Yes  ...            1.0         Urban           Y\n",
              "4  LP001008   Male      No  ...            1.0         Urban           Y\n",
              "\n",
              "[5 rows x 13 columns]"
            ]
          },
          "metadata": {
            "tags": []
          },
          "execution_count": 60
        }
      ]
    },
    {
      "cell_type": "markdown",
      "metadata": {
        "id": "8qElqDcvpbqR",
        "colab_type": "text"
      },
      "source": [
        "### Hypothesis"
      ]
    },
    {
      "cell_type": "markdown",
      "metadata": {
        "id": "9Dmy7eaipjpl",
        "colab_type": "text"
      },
      "source": [
        "- People with high income tend to repay loan more. Hence they will have a higher loan approval rate.\n",
        "- Gender is not a factor in loan approval.\n",
        "- Families with combined higher income tend to get their loans approved.\n",
        "- Applications with lesser loan amount get loan approved.\n",
        "- Applications with lesser loan terms get their loans approved\n",
        "- No of dependents / total income would impact the loan repayment. Hence more the ratio of total income/# of deps, higher the change of loan repayment.\n",
        "- People with higher education will be given more loans.\n",
        "- Applications where ratio of loan amount/income is lower would have higher chance of approval.\n",
        "- Married applicants may be considered more responsible and have higher chance of getting loan approved.\n",
        "- People with no credit history have lesser probability of getting loans."
      ]
    },
    {
      "cell_type": "code",
      "metadata": {
        "id": "2T_cQtS9KWkg",
        "colab_type": "code",
        "colab": {
          "base_uri": "https://localhost:8080/",
          "height": 85
        },
        "outputId": "79734395-480f-4e27-d487-33e266a23d55"
      },
      "source": [
        "#Inspecting columns for the given loan data set\n",
        "dataset.columns"
      ],
      "execution_count": 61,
      "outputs": [
        {
          "output_type": "execute_result",
          "data": {
            "text/plain": [
              "Index(['Loan_ID', 'Gender', 'Married', 'Dependents', 'Education',\n",
              "       'Self_Employed', 'ApplicantIncome', 'CoapplicantIncome', 'LoanAmount',\n",
              "       'Loan_Amount_Term', 'Credit_History', 'Property_Area', 'Loan_Status'],\n",
              "      dtype='object')"
            ]
          },
          "metadata": {
            "tags": []
          },
          "execution_count": 61
        }
      ]
    },
    {
      "cell_type": "markdown",
      "metadata": {
        "id": "qCZiMjrrnNbI",
        "colab_type": "text"
      },
      "source": [
        "There are 12 independent variables and 1 target variable (Loan_Status) that we need to predict."
      ]
    },
    {
      "cell_type": "code",
      "metadata": {
        "id": "iUBuAByWKs9K",
        "colab_type": "code",
        "colab": {
          "base_uri": "https://localhost:8080/",
          "height": 34
        },
        "outputId": "a9d06e18-026e-49f9-d747-e7f3a24c62b3"
      },
      "source": [
        "#Inspecting dimensions of the given dataset\n",
        "dataset.shape"
      ],
      "execution_count": 62,
      "outputs": [
        {
          "output_type": "execute_result",
          "data": {
            "text/plain": [
              "(614, 13)"
            ]
          },
          "metadata": {
            "tags": []
          },
          "execution_count": 62
        }
      ]
    },
    {
      "cell_type": "code",
      "metadata": {
        "id": "x4WBy3vKKvNF",
        "colab_type": "code",
        "colab": {
          "base_uri": "https://localhost:8080/",
          "height": 255
        },
        "outputId": "122cce1f-1cb5-4ff7-840a-8d58617a7159"
      },
      "source": [
        "#Inspecting data tyoes of all given attributes from the loan dataset\n",
        "dataset.dtypes"
      ],
      "execution_count": 63,
      "outputs": [
        {
          "output_type": "execute_result",
          "data": {
            "text/plain": [
              "Loan_ID               object\n",
              "Gender                object\n",
              "Married               object\n",
              "Dependents            object\n",
              "Education             object\n",
              "Self_Employed         object\n",
              "ApplicantIncome        int64\n",
              "CoapplicantIncome    float64\n",
              "LoanAmount           float64\n",
              "Loan_Amount_Term     float64\n",
              "Credit_History       float64\n",
              "Property_Area         object\n",
              "Loan_Status           object\n",
              "dtype: object"
            ]
          },
          "metadata": {
            "tags": []
          },
          "execution_count": 63
        }
      ]
    },
    {
      "cell_type": "markdown",
      "metadata": {
        "id": "Ul-16VchwZxj",
        "colab_type": "text"
      },
      "source": [
        "### Observations about data types\n",
        "*   Applicant Income is of integer type\n",
        "*   Coapplicant Income, Loan Amount, Loan Term, Credit History are float type.\n",
        "*   Rest of the attributes are categorical (includes nominal and ordinal)\n",
        "\n",
        "\n",
        "\n",
        "\n",
        "\n"
      ]
    },
    {
      "cell_type": "markdown",
      "metadata": {
        "id": "3D3E8BGQVzjN",
        "colab_type": "text"
      },
      "source": [
        "# Types of Features\n",
        "\n",
        "\n",
        "###   Categorical features\n",
        "1. Gender\n",
        "2. Married\n",
        "3. Self_Employed\n",
        "4. Credit_History\n",
        "5. Loan_Status (*dependent variable*)\n",
        "---\n",
        "###   Ordinal features\n",
        "1. Dependents\n",
        "2. Education\n",
        "3. Property_Area\n",
        "---\n",
        "###   Numerical features\n",
        "1. ApplicantIncome\n",
        "2. CoapplicantIncome\n",
        "3. LoanAmount\n",
        "4. Loan_Amount_Term\n",
        "\n",
        "\n",
        "---\n",
        "\n",
        "\n",
        "\n"
      ]
    },
    {
      "cell_type": "markdown",
      "metadata": {
        "id": "s1ehxqQUkiIA",
        "colab_type": "text"
      },
      "source": [
        "# Univariate Analysis"
      ]
    },
    {
      "cell_type": "markdown",
      "metadata": {
        "id": "pFrZ-rs9Y-wo",
        "colab_type": "text"
      },
      "source": [
        "### Categorical Feature Analysis"
      ]
    },
    {
      "cell_type": "code",
      "metadata": {
        "id": "hAg6eQdgY64J",
        "colab_type": "code",
        "colab": {
          "base_uri": "https://localhost:8080/",
          "height": 613
        },
        "outputId": "8675da70-ade3-490a-80cd-394e05608230"
      },
      "source": [
        "plt.figure(1) \n",
        "plt.subplot(221) \n",
        "dataset['Gender'].value_counts(normalize=True).plot.bar(figsize=(20,10), title= 'Gender')\n",
        "plt.subplot(222) \n",
        "dataset['Married'].value_counts(normalize=True).plot.bar(title= 'Married')\n",
        "plt.subplot(223) \n",
        "dataset['Self_Employed'].value_counts(normalize=True).plot.bar(title='Self_Employed')\n",
        "plt.subplot(224) \n",
        "dataset['Credit_History'].value_counts(normalize=True).plot.bar(title='Credit_History')\n",
        "plt.show()"
      ],
      "execution_count": 64,
      "outputs": [
        {
          "output_type": "display_data",
          "data": {
            "image/png": "[encoded data removed]",
            "text/plain": [
              "<Figure size 1440x720 with 4 Axes>"
            ]
          },
          "metadata": {
            "tags": [],
            "needs_background": "light"
          }
        }
      ]
    },
    {
      "cell_type": "markdown",
      "metadata": {
        "id": "dpJnhozUcPvx",
        "colab_type": "text"
      },
      "source": [
        "## Inference\n",
        "\n",
        "\n",
        "*   Majority of applicants (~80%) are Males\n",
        "*   Majority of applicants (~65%) are Married\n",
        "*   Majority of applicants (~85%) are Salaried(not self employed)\n",
        "*   Majority of applicants (~85%) have good Credit History\n",
        "\n",
        "\n",
        "\n"
      ]
    },
    {
      "cell_type": "markdown",
      "metadata": {
        "id": "kbQ4kRV2dPeT",
        "colab_type": "text"
      },
      "source": [
        "\n",
        "\n",
        "---\n",
        "\n"
      ]
    },
    {
      "cell_type": "markdown",
      "metadata": {
        "colab_type": "text",
        "id": "bzqP08oGdspk"
      },
      "source": [
        "### Ordinal Feature Analysis"
      ]
    },
    {
      "cell_type": "code",
      "metadata": {
        "id": "LxHiq_cwePI8",
        "colab_type": "code",
        "colab": {
          "base_uri": "https://localhost:8080/",
          "height": 406
        },
        "outputId": "3ebeaa7a-8614-4714-8108-19b6d9c2741f"
      },
      "source": [
        "plt.figure(1)\n",
        "plt.subplot(131)\n",
        "dataset['Dependents'].value_counts(normalize=True).plot.bar(figsize=(24,6), title= 'Dependents')\n",
        "\n",
        "plt.subplot(132)\n",
        "dataset['Education'].value_counts(normalize=True).plot.bar(title= 'Education')\n",
        "\n",
        "plt.subplot(133)\n",
        "dataset['Property_Area'].value_counts(normalize=True).plot.bar(title= 'Property_Area')\n",
        "\n",
        "plt.show()"
      ],
      "execution_count": 65,
      "outputs": [
        {
          "output_type": "display_data",
          "data": {
            "image/png": "[encoded data removed]",
            "text/plain": [
              "<Figure size 1728x432 with 3 Axes>"
            ]
          },
          "metadata": {
            "tags": [],
            "needs_background": "light"
          }
        }
      ]
    },
    {
      "cell_type": "markdown",
      "metadata": {
        "id": "z_TPFru5exyf",
        "colab_type": "text"
      },
      "source": [
        "## Inference\n",
        "* Majority of the applicants (~58%) dont have any dependents\n",
        "* Majority of the applicants (~78%) are graduates\n",
        "* Majority of the applicants (~40%) are from Semi-Urban area"
      ]
    },
    {
      "cell_type": "markdown",
      "metadata": {
        "id": "RkN6j_nhfC1b",
        "colab_type": "text"
      },
      "source": [
        "\n",
        "\n",
        "---\n",
        "\n"
      ]
    },
    {
      "cell_type": "markdown",
      "metadata": {
        "id": "vmUCno-tfOOG",
        "colab_type": "text"
      },
      "source": [
        "### Numerical Feature Analysis"
      ]
    },
    {
      "cell_type": "code",
      "metadata": {
        "id": "_sW8sizCfemY",
        "colab_type": "code",
        "colab": {
          "base_uri": "https://localhost:8080/",
          "height": 334
        },
        "outputId": "8edea299-d07c-4aa7-a609-c85fa75f7689"
      },
      "source": [
        "plt.figure(1)\n",
        "plt.subplot(121)\n",
        "sns.distplot(dataset['ApplicantIncome']);\n",
        "\n",
        "plt.subplot(122)\n",
        "dataset['ApplicantIncome'].plot.box(figsize=(16,5))\n",
        "\n",
        "plt.show()"
      ],
      "execution_count": 66,
      "outputs": [
        {
          "output_type": "display_data",
          "data": {
            "image/png": "[encoded data removed]",
            "text/plain": [
              "<Figure size 1152x360 with 2 Axes>"
            ]
          },
          "metadata": {
            "tags": [],
            "needs_background": "light"
          }
        }
      ]
    },
    {
      "cell_type": "markdown",
      "metadata": {
        "id": "W8t5kuFjfuON",
        "colab_type": "text"
      },
      "source": [
        "Majority of the income is concetrated between 0 & 20000. Outliers in the whisker chart confirm the same. One posible reason could be that higher education might be making a difference."
      ]
    },
    {
      "cell_type": "code",
      "metadata": {
        "id": "eMg354d1imx9",
        "colab_type": "code",
        "colab": {
          "base_uri": "https://localhost:8080/",
          "height": 311
        },
        "outputId": "13f09029-92d6-4e13-847c-cf0547be2f2d"
      },
      "source": [
        "dataset.boxplot(column='ApplicantIncome', by = 'Education')\n",
        "plt.suptitle(\"\")"
      ],
      "execution_count": 67,
      "outputs": [
        {
          "output_type": "execute_result",
          "data": {
            "text/plain": [
              "Text(0.5, 0.98, '')"
            ]
          },
          "metadata": {
            "tags": []
          },
          "execution_count": 67
        },
        {
          "output_type": "display_data",
          "data": {
            "image/png": "[encoded data removed]",
            "text/plain": [
              "<Figure size 432x288 with 1 Axes>"
            ]
          },
          "metadata": {
            "tags": [],
            "needs_background": "light"
          }
        }
      ]
    },
    {
      "cell_type": "markdown",
      "metadata": {
        "id": "IKSsR7MEjVRd",
        "colab_type": "text"
      },
      "source": [
        "As observed above, outliers seem to be more in the Graduate category which might indicate income disparity between highly educated vs rest."
      ]
    },
    {
      "cell_type": "code",
      "metadata": {
        "id": "gdD3ZWHqjgrm",
        "colab_type": "code",
        "colab": {
          "base_uri": "https://localhost:8080/",
          "height": 334
        },
        "outputId": "5e48d852-7bf3-4ef3-f842-46ff9974ad8a"
      },
      "source": [
        "plt.figure(1)\n",
        "plt.subplot(121)\n",
        "sns.distplot(dataset['CoapplicantIncome']);\n",
        "\n",
        "plt.subplot(122)\n",
        "dataset['CoapplicantIncome'].plot.box(figsize=(16,5))\n",
        "\n",
        "plt.show()"
      ],
      "execution_count": 68,
      "outputs": [
        {
          "output_type": "display_data",
          "data": {
            "image/png": "[encoded data removed]",
            "text/plain": [
              "<Figure size 1152x360 with 2 Axes>"
            ]
          },
          "metadata": {
            "tags": [],
            "needs_background": "light"
          }
        }
      ]
    },
    {
      "cell_type": "markdown",
      "metadata": {
        "id": "bSGma41LjpbW",
        "colab_type": "text"
      },
      "source": [
        "A similar trend can be observed in the co-applicant income as well. It is not normally distributed. As shown in the whisker chart, there are many outliers here as well."
      ]
    },
    {
      "cell_type": "code",
      "metadata": {
        "id": "291HumQskCE0",
        "colab_type": "code",
        "colab": {
          "base_uri": "https://localhost:8080/",
          "height": 334
        },
        "outputId": "8bd938d2-6697-464b-b692-c59e516678e7"
      },
      "source": [
        "plt.figure(1)\n",
        "plt.subplot(121)\n",
        "df=dataset.dropna()\n",
        "sns.distplot(df['LoanAmount']);\n",
        "\n",
        "plt.subplot(122)\n",
        "dataset['LoanAmount'].plot.box(figsize=(16,5))\n",
        "\n",
        "plt.show()"
      ],
      "execution_count": 69,
      "outputs": [
        {
          "output_type": "display_data",
          "data": {
            "image/png": "[encoded data removed]",
            "text/plain": [
              "<Figure size 1152x360 with 2 Axes>"
            ]
          },
          "metadata": {
            "tags": [],
            "needs_background": "light"
          }
        }
      ]
    },
    {
      "cell_type": "markdown",
      "metadata": {
        "id": "mKQClZl7kQd8",
        "colab_type": "text"
      },
      "source": [
        "Loan Amount seems to have a failrly normal distribution but it does seem to have high number of outliers."
      ]
    },
    {
      "cell_type": "markdown",
      "metadata": {
        "id": "o-TWU14ZkrAg",
        "colab_type": "text"
      },
      "source": [
        "# Bivariate Analysis"
      ]
    },
    {
      "cell_type": "markdown",
      "metadata": {
        "id": "MJV8zkEilF-p",
        "colab_type": "text"
      },
      "source": [
        "### Analysing Gender Vs Loan Status"
      ]
    },
    {
      "cell_type": "code",
      "metadata": {
        "id": "uSXTe98clFLd",
        "colab_type": "code",
        "colab": {
          "base_uri": "https://localhost:8080/",
          "height": 322
        },
        "outputId": "bb69dea8-5180-465d-b6d1-01c0ad1179cc"
      },
      "source": [
        "Gender=pd.crosstab(dataset['Gender'], dataset['Loan_Status'])\n",
        "Gender.div(Gender.sum(1).astype(float), axis=0).plot(kind=\"bar\", stacked=True, figsize=(4,4))"
      ],
      "execution_count": 70,
      "outputs": [
        {
          "output_type": "execute_result",
          "data": {
            "text/plain": [
              "<matplotlib.axes._subplots.AxesSubplot at 0x7fbcca95cbe0>"
            ]
          },
          "metadata": {
            "tags": []
          },
          "execution_count": 70
        },
        {
          "output_type": "display_data",
          "data": {
            "image/png": "[encoded data removed]",
            "text/plain": [
              "<Figure size 288x288 with 1 Axes>"
            ]
          },
          "metadata": {
            "tags": [],
            "needs_background": "light"
          }
        }
      ]
    },
    {
      "cell_type": "markdown",
      "metadata": {
        "id": "Jc7QqKXVlZ_P",
        "colab_type": "text"
      },
      "source": [
        "Both Male and Female seem to have similar approval rate for Loans"
      ]
    },
    {
      "cell_type": "markdown",
      "metadata": {
        "id": "Cj9jzTzFlgzr",
        "colab_type": "text"
      },
      "source": [
        "### Married Vs Loan Status"
      ]
    },
    {
      "cell_type": "code",
      "metadata": {
        "id": "nxyDSOwClpS5",
        "colab_type": "code",
        "colab": {
          "base_uri": "https://localhost:8080/",
          "height": 285
        },
        "outputId": "1d84a4e5-e868-4e21-a738-298c52f9bcc6"
      },
      "source": [
        "Married=pd.crosstab(dataset['Married'],dataset['Loan_Status'])\n",
        "Married.div(Married.sum(1).astype(float), axis=0).plot(kind=\"bar\", stacked=True, figsize=(4,4))\n",
        "plt.show()"
      ],
      "execution_count": 71,
      "outputs": [
        {
          "output_type": "display_data",
          "data": {
            "image/png": "[encoded data removed]",
            "text/plain": [
              "<Figure size 288x288 with 1 Axes>"
            ]
          },
          "metadata": {
            "tags": [],
            "needs_background": "light"
          }
        }
      ]
    },
    {
      "cell_type": "markdown",
      "metadata": {
        "id": "3_zAZpLhmCJm",
        "colab_type": "text"
      },
      "source": [
        "Married applicants seem to have a higher approval rate"
      ]
    },
    {
      "cell_type": "markdown",
      "metadata": {
        "id": "UqqW7JuOmB-1",
        "colab_type": "text"
      },
      "source": [
        "### Dependents Vs Loan Status"
      ]
    },
    {
      "cell_type": "code",
      "metadata": {
        "id": "PovvT_admWpy",
        "colab_type": "code",
        "colab": {
          "base_uri": "https://localhost:8080/",
          "height": 284
        },
        "outputId": "2fb032e1-97a2-4db6-89c5-4a986aa1cca5"
      },
      "source": [
        "Dependents=pd.crosstab(dataset['Dependents'],dataset['Loan_Status'])\n",
        "Dependents.div(Dependents.sum(1).astype(float), axis=0).plot(kind=\"bar\", stacked=True)\n",
        "plt.show()"
      ],
      "execution_count": 72,
      "outputs": [
        {
          "output_type": "display_data",
          "data": {
            "image/png": "[encoded data removed]",
            "text/plain": [
              "<Figure size 432x288 with 1 Axes>"
            ]
          },
          "metadata": {
            "tags": [],
            "needs_background": "light"
          }
        }
      ]
    },
    {
      "cell_type": "markdown",
      "metadata": {
        "id": "2wLDFMzWmk8C",
        "colab_type": "text"
      },
      "source": [
        "Dependents with 1 OR 1+ have the least approval rate"
      ]
    },
    {
      "cell_type": "markdown",
      "metadata": {
        "id": "6U8SaCsDmvnN",
        "colab_type": "text"
      },
      "source": [
        "### Education Vs Loan Status"
      ]
    },
    {
      "cell_type": "code",
      "metadata": {
        "id": "JarF1uY2mtBX",
        "colab_type": "code",
        "colab": {
          "base_uri": "https://localhost:8080/",
          "height": 337
        },
        "outputId": "8c7d1616-af8e-40ab-e672-a11028e872c8"
      },
      "source": [
        "Education=pd.crosstab(dataset['Education'],dataset['Loan_Status'])\n",
        "Education.div(Education.sum(1).astype(float), axis=0).plot(kind=\"bar\", stacked=True, figsize=(4,4))\n",
        "plt.show()"
      ],
      "execution_count": 73,
      "outputs": [
        {
          "output_type": "display_data",
          "data": {
            "image/png": "[encoded data removed]",
            "text/plain": [
              "<Figure size 288x288 with 1 Axes>"
            ]
          },
          "metadata": {
            "tags": [],
            "needs_background": "light"
          }
        }
      ]
    },
    {
      "cell_type": "markdown",
      "metadata": {
        "id": "MPtBfm263muf",
        "colab_type": "text"
      },
      "source": [
        "Graduates seem to have a higher loan approval rating."
      ]
    },
    {
      "cell_type": "markdown",
      "metadata": {
        "id": "wqrkQNUAnFGY",
        "colab_type": "text"
      },
      "source": [
        "Employment Type vs Loan Status"
      ]
    },
    {
      "cell_type": "code",
      "metadata": {
        "id": "gM-63BNdnN7N",
        "colab_type": "code",
        "colab": {
          "base_uri": "https://localhost:8080/",
          "height": 286
        },
        "outputId": "7b15175b-14b2-4967-8355-4b08fb18bf4a"
      },
      "source": [
        "Self_Employed=pd.crosstab(dataset['Self_Employed'],dataset['Loan_Status'])\n",
        "Self_Employed.div(Self_Employed.sum(1).astype(float), axis=0).plot(kind=\"bar\", stacked=True, figsize=(4,4))\n",
        "plt.show()"
      ],
      "execution_count": 74,
      "outputs": [
        {
          "output_type": "display_data",
          "data": {
            "image/png": "[encoded data removed]",
            "text/plain": [
              "<Figure size 288x288 with 1 Axes>"
            ]
          },
          "metadata": {
            "tags": [],
            "needs_background": "light"
          }
        }
      ]
    },
    {
      "cell_type": "markdown",
      "metadata": {
        "id": "fAd8tncooNnH",
        "colab_type": "text"
      },
      "source": [
        "Type of employment doesnt seem to make any impact on the loan status"
      ]
    },
    {
      "cell_type": "markdown",
      "metadata": {
        "id": "VCu6i321plyH",
        "colab_type": "text"
      },
      "source": [
        "### Credit History Vs Loan Status"
      ]
    },
    {
      "cell_type": "code",
      "metadata": {
        "id": "iMdKLZ77ppGI",
        "colab_type": "code",
        "colab": {
          "base_uri": "https://localhost:8080/",
          "height": 286
        },
        "outputId": "b479940b-a094-468f-a59f-21253c354155"
      },
      "source": [
        "Credit_History=pd.crosstab(dataset['Credit_History'],dataset['Loan_Status'])\n",
        "Credit_History.div(Credit_History.sum(1).astype(float), axis=0).plot(kind=\"bar\", stacked=True, figsize=(4,4))\n",
        "plt.show()"
      ],
      "execution_count": 75,
      "outputs": [
        {
          "output_type": "display_data",
          "data": {
            "image/png": "[encoded data removed]",
            "text/plain": [
              "<Figure size 288x288 with 1 Axes>"
            ]
          },
          "metadata": {
            "tags": [],
            "needs_background": "light"
          }
        }
      ]
    },
    {
      "cell_type": "markdown",
      "metadata": {
        "id": "ZEcav0kRpzCZ",
        "colab_type": "text"
      },
      "source": [
        "It is very obvious that people with good credit history have a much higher approval rate.\n",
        "\n",
        "---\n",
        "\n"
      ]
    },
    {
      "cell_type": "markdown",
      "metadata": {
        "id": "xUWXm6Kip5uC",
        "colab_type": "text"
      },
      "source": [
        "### Property Area Vs Loan Status"
      ]
    },
    {
      "cell_type": "code",
      "metadata": {
        "id": "OCINVGc_p_km",
        "colab_type": "code",
        "colab": {
          "base_uri": "https://localhost:8080/",
          "height": 324
        },
        "outputId": "b0b8220e-0f70-4831-8558-bd84b178c156"
      },
      "source": [
        "Property_Area=pd.crosstab(dataset['Property_Area'],dataset['Loan_Status'])\n",
        "Property_Area.div(Property_Area.sum(1).astype(float), axis=0).plot(kind=\"bar\", stacked=True)\n",
        "plt.show()"
      ],
      "execution_count": 76,
      "outputs": [
        {
          "output_type": "display_data",
          "data": {
            "image/png": "[encoded data removed]",
            "text/plain": [
              "<Figure size 432x288 with 1 Axes>"
            ]
          },
          "metadata": {
            "tags": [],
            "needs_background": "light"
          }
        }
      ]
    },
    {
      "cell_type": "markdown",
      "metadata": {
        "id": "I_04gr7mqMkl",
        "colab_type": "text"
      },
      "source": [
        "Applications with semi urban property have a higher approval rate"
      ]
    },
    {
      "cell_type": "markdown",
      "metadata": {
        "id": "0ePiqAkEqs59",
        "colab_type": "text"
      },
      "source": [
        "### Income vs Loan Status"
      ]
    },
    {
      "cell_type": "code",
      "metadata": {
        "id": "kFbmtd7rqxKs",
        "colab_type": "code",
        "colab": {
          "base_uri": "https://localhost:8080/",
          "height": 317
        },
        "outputId": "a2e66f05-f143-48e3-debe-f04488f2668f"
      },
      "source": [
        "bins=[0,2500,4000,6000,81000]\n",
        "group=['Low','Average','High', 'Very high']\n",
        "dataset['Income_bin']=pd.cut(df['ApplicantIncome'],bins,labels=group)\n",
        "\n",
        "Income_bin=pd.crosstab(dataset['Income_bin'],dataset['Loan_Status'])\n",
        "Income_bin.div(Income_bin.sum(1).astype(float), axis=0).plot(kind=\"bar\", stacked=True)\n",
        "plt.xlabel('ApplicantIncome')\n",
        "P = plt.ylabel('Percentage')"
      ],
      "execution_count": 77,
      "outputs": [
        {
          "output_type": "display_data",
          "data": {
            "image/png": "[encoded data removed]",
            "text/plain": [
              "<Figure size 432x288 with 1 Axes>"
            ]
          },
          "metadata": {
            "tags": [],
            "needs_background": "light"
          }
        }
      ]
    },
    {
      "cell_type": "markdown",
      "metadata": {
        "id": "AQS01XWSrJip",
        "colab_type": "text"
      },
      "source": [
        "Even with binning we dont really see any impact of applicant income w.r.t Loan status"
      ]
    },
    {
      "cell_type": "code",
      "metadata": {
        "id": "lcXFiXeFrYY7",
        "colab_type": "code",
        "colab": {
          "base_uri": "https://localhost:8080/",
          "height": 310
        },
        "outputId": "2a35779f-2db0-44d1-c493-338da68e92fe"
      },
      "source": [
        "bins=[0,1000,3000,42000]\n",
        "group=['Low','Average','High']\n",
        "dataset['Coapplicant_Income_bin']=pd.cut(df['CoapplicantIncome'],bins,labels=group)\n",
        "Coapplicant_Income_bin=pd.crosstab(dataset['Coapplicant_Income_bin'],dataset['Loan_Status'])\n",
        "Coapplicant_Income_bin.div(Coapplicant_Income_bin.sum(1).astype(float), axis=0).plot(kind=\"bar\", stacked=True)\n",
        "plt.xlabel('CoapplicantIncome')\n",
        "P = plt.ylabel('Percentage')"
      ],
      "execution_count": 78,
      "outputs": [
        {
          "output_type": "display_data",
          "data": {
            "image/png": "[encoded data removed]",
            "text/plain": [
              "<Figure size 432x288 with 1 Axes>"
            ]
          },
          "metadata": {
            "tags": [],
            "needs_background": "light"
          }
        }
      ]
    },
    {
      "cell_type": "markdown",
      "metadata": {
        "id": "WhHADdewrrof",
        "colab_type": "text"
      },
      "source": [
        "### Combined Income Vs Loan Status"
      ]
    },
    {
      "cell_type": "code",
      "metadata": {
        "id": "LnRFpj1LrvqB",
        "colab_type": "code",
        "colab": {
          "base_uri": "https://localhost:8080/",
          "height": 318
        },
        "outputId": "fd5aae12-62a7-4be5-959d-3148b484f8ed"
      },
      "source": [
        "dataset['Total_Income']=dataset['ApplicantIncome']+dataset['CoapplicantIncome']\n",
        "\n",
        "bins=[0,2500,4000,6000,81000]\n",
        "group=['Low','Average','High', 'Very high']\n",
        "dataset['Total_Income_bin']=pd.cut(dataset['Total_Income'],bins,labels=group)\n",
        "\n",
        "Total_Income_bin=pd.crosstab(dataset['Total_Income_bin'],dataset['Loan_Status'])\n",
        "Total_Income_bin.div(Total_Income_bin.sum(1).astype(float), axis=0).plot(kind=\"bar\", stacked=True)\n",
        "plt.xlabel('Total_Income')\n",
        "P = plt.ylabel('Percentage')"
      ],
      "execution_count": 79,
      "outputs": [
        {
          "output_type": "display_data",
          "data": {
            "image/png": "[encoded data removed]",
            "text/plain": [
              "<Figure size 432x288 with 1 Axes>"
            ]
          },
          "metadata": {
            "tags": [],
            "needs_background": "light"
          }
        }
      ]
    },
    {
      "cell_type": "markdown",
      "metadata": {
        "id": "IqhEtGPBsDgG",
        "colab_type": "text"
      },
      "source": [
        "It clearly shows that lower the combined income of a household, lesser their chances of getting their loan approved."
      ]
    },
    {
      "cell_type": "markdown",
      "metadata": {
        "id": "pSp9fBR7sN55",
        "colab_type": "text"
      },
      "source": [
        "### Loan Amount Vs Loan Status"
      ]
    },
    {
      "cell_type": "code",
      "metadata": {
        "id": "RRt9dBRJsSWq",
        "colab_type": "code",
        "colab": {
          "base_uri": "https://localhost:8080/",
          "height": 310
        },
        "outputId": "23d5881a-9d6e-4d89-956a-bfe1e94bca13"
      },
      "source": [
        "bins=[0,100,200,700]\n",
        "group=['Low','Average','High']\n",
        "dataset['LoanAmount_bin']=pd.cut(df['LoanAmount'],bins,labels=group)\n",
        "\n",
        "LoanAmount_bin=pd.crosstab(dataset['LoanAmount_bin'],dataset['Loan_Status'])\n",
        "LoanAmount_bin.div(LoanAmount_bin.sum(1).astype(float), axis=0).plot(kind=\"bar\", stacked=True)\n",
        "plt.xlabel('LoanAmount')\n",
        "P = plt.ylabel('Percentage')"
      ],
      "execution_count": 80,
      "outputs": [
        {
          "output_type": "display_data",
          "data": {
            "image/png": "[encoded data removed]",
            "text/plain": [
              "<Figure size 432x288 with 1 Axes>"
            ]
          },
          "metadata": {
            "tags": [],
            "needs_background": "light"
          }
        }
      ]
    },
    {
      "cell_type": "markdown",
      "metadata": {
        "id": "I5FWYpkust5p",
        "colab_type": "text"
      },
      "source": [
        "Lower loan amounts have higher approval rate and higher loan amounts have lower approval rate"
      ]
    },
    {
      "cell_type": "code",
      "metadata": {
        "id": "xbj2bXiYCDk-",
        "colab_type": "code",
        "colab": {}
      },
      "source": [
        "dataset=dataset.drop(['Income_bin', 'Coapplicant_Income_bin'], axis=1)"
      ],
      "execution_count": 81,
      "outputs": []
    },
    {
      "cell_type": "markdown",
      "metadata": {
        "id": "UG7gWMtpte7M",
        "colab_type": "text"
      },
      "source": [
        "### Correlation between all numerical attributes"
      ]
    },
    {
      "cell_type": "code",
      "metadata": {
        "id": "plRiumPUtlvz",
        "colab_type": "code",
        "colab": {
          "base_uri": "https://localhost:8080/",
          "height": 465
        },
        "outputId": "1a26a552-6ac6-4e40-8def-a2643915e0f3"
      },
      "source": [
        "#replacing 3+ to 3 and Y/N=1/0\n",
        "dataset['Dependents'].replace('3+', 3,inplace=True)\n",
        "dataset['Loan_Status'].replace('N', 0,inplace=True)\n",
        "dataset['Loan_Status'].replace('Y', 1,inplace=True)\n",
        "matrix = dataset.corr()\n",
        "f, ax = plt.subplots(figsize=(9, 6))\n",
        "sns.heatmap(matrix, vmax=.8, square=True, cmap=\"BuPu\");"
      ],
      "execution_count": 82,
      "outputs": [
        {
          "output_type": "display_data",
          "data": {
            "image/png": "[encoded data removed]",
            "text/plain": [
              "<Figure size 648x432 with 2 Axes>"
            ]
          },
          "metadata": {
            "tags": [],
            "needs_background": "light"
          }
        }
      ]
    },
    {
      "cell_type": "markdown",
      "metadata": {
        "id": "3TjZWRNtuM2u",
        "colab_type": "text"
      },
      "source": [
        "We can see Applicant Income vs Loan Amount & Credit History Vs Loan Status are highly correlated"
      ]
    },
    {
      "cell_type": "markdown",
      "metadata": {
        "id": "CinMC0xHXYzi",
        "colab_type": "text"
      },
      "source": [
        "# Data Wrangling"
      ]
    },
    {
      "cell_type": "code",
      "metadata": {
        "id": "gBxXtLvEY4kj",
        "colab_type": "code",
        "colab": {
          "base_uri": "https://localhost:8080/",
          "height": 306
        },
        "outputId": "84128a1d-bf14-466d-9463-b463c4443b88"
      },
      "source": [
        "dataset.isnull().sum()"
      ],
      "execution_count": 83,
      "outputs": [
        {
          "output_type": "execute_result",
          "data": {
            "text/plain": [
              "Loan_ID                0\n",
              "Gender                13\n",
              "Married                3\n",
              "Dependents            15\n",
              "Education              0\n",
              "Self_Employed         32\n",
              "ApplicantIncome        0\n",
              "CoapplicantIncome      0\n",
              "LoanAmount            22\n",
              "Loan_Amount_Term      14\n",
              "Credit_History        50\n",
              "Property_Area          0\n",
              "Loan_Status            0\n",
              "Total_Income           0\n",
              "Total_Income_bin       0\n",
              "LoanAmount_bin       134\n",
              "dtype: int64"
            ]
          },
          "metadata": {
            "tags": []
          },
          "execution_count": 83
        }
      ]
    },
    {
      "cell_type": "code",
      "metadata": {
        "id": "iIGHsheIY9-l",
        "colab_type": "code",
        "colab": {
          "base_uri": "https://localhost:8080/",
          "height": 352
        },
        "outputId": "e6f328a4-a990-4132-dc5f-36c920d187b5"
      },
      "source": [
        "sns.heatmap(dataset.isnull(),yticklabels=False, cmap='BuPu', cbar=False);"
      ],
      "execution_count": 84,
      "outputs": [
        {
          "output_type": "display_data",
          "data": {
            "image/png": "[encoded data removed]",
            "text/plain": [
              "<Figure size 432x288 with 1 Axes>"
            ]
          },
          "metadata": {
            "tags": [],
            "needs_background": "light"
          }
        }
      ]
    },
    {
      "cell_type": "code",
      "metadata": {
        "id": "fIHgn4k4S5V9",
        "colab_type": "code",
        "colab": {
          "base_uri": "https://localhost:8080/",
          "height": 241
        },
        "outputId": "78d9a384-208f-4088-ae3e-6d642040d7db"
      },
      "source": [
        "dataset.head()"
      ],
      "execution_count": 85,
      "outputs": [
        {
          "output_type": "execute_result",
          "data": {
            "text/html": [
              "<div>\n",
              "<style scoped>\n",
              "    .dataframe tbody tr th:only-of-type {\n",
              "        vertical-align: middle;\n",
              "    }\n",
              "\n",
              "    .dataframe tbody tr th {\n",
              "        vertical-align: top;\n",
              "    }\n",
              "\n",
              "    .dataframe thead th {\n",
              "        text-align: right;\n",
              "    }\n",
              "</style>\n",
              "<table border=\"1\" class=\"dataframe\">\n",
              "  <thead>\n",
              "    <tr style=\"text-align: right;\">\n",
              "      <th></th>\n",
              "      <th>Loan_ID</th>\n",
              "      <th>Gender</th>\n",
              "      <th>Married</th>\n",
              "      <th>Dependents</th>\n",
              "      <th>Education</th>\n",
              "      <th>Self_Employed</th>\n",
              "      <th>ApplicantIncome</th>\n",
              "      <th>CoapplicantIncome</th>\n",
              "      <th>LoanAmount</th>\n",
              "      <th>Loan_Amount_Term</th>\n",
              "      <th>Credit_History</th>\n",
              "      <th>Property_Area</th>\n",
              "      <th>Loan_Status</th>\n",
              "      <th>Total_Income</th>\n",
              "      <th>Total_Income_bin</th>\n",
              "      <th>LoanAmount_bin</th>\n",
              "    </tr>\n",
              "  </thead>\n",
              "  <tbody>\n",
              "    <tr>\n",
              "      <th>0</th>\n",
              "      <td>LP001002</td>\n",
              "      <td>Male</td>\n",
              "      <td>No</td>\n",
              "      <td>0</td>\n",
              "      <td>Graduate</td>\n",
              "      <td>No</td>\n",
              "      <td>5849</td>\n",
              "      <td>0.0</td>\n",
              "      <td>NaN</td>\n",
              "      <td>360.0</td>\n",
              "      <td>1.0</td>\n",
              "      <td>Urban</td>\n",
              "      <td>1</td>\n",
              "      <td>5849.0</td>\n",
              "      <td>High</td>\n",
              "      <td>NaN</td>\n",
              "    </tr>\n",
              "    <tr>\n",
              "      <th>1</th>\n",
              "      <td>LP001003</td>\n",
              "      <td>Male</td>\n",
              "      <td>Yes</td>\n",
              "      <td>1</td>\n",
              "      <td>Graduate</td>\n",
              "      <td>No</td>\n",
              "      <td>4583</td>\n",
              "      <td>1508.0</td>\n",
              "      <td>128.0</td>\n",
              "      <td>360.0</td>\n",
              "      <td>1.0</td>\n",
              "      <td>Rural</td>\n",
              "      <td>0</td>\n",
              "      <td>6091.0</td>\n",
              "      <td>Very high</td>\n",
              "      <td>Average</td>\n",
              "    </tr>\n",
              "    <tr>\n",
              "      <th>2</th>\n",
              "      <td>LP001005</td>\n",
              "      <td>Male</td>\n",
              "      <td>Yes</td>\n",
              "      <td>0</td>\n",
              "      <td>Graduate</td>\n",
              "      <td>Yes</td>\n",
              "      <td>3000</td>\n",
              "      <td>0.0</td>\n",
              "      <td>66.0</td>\n",
              "      <td>360.0</td>\n",
              "      <td>1.0</td>\n",
              "      <td>Urban</td>\n",
              "      <td>1</td>\n",
              "      <td>3000.0</td>\n",
              "      <td>Average</td>\n",
              "      <td>Low</td>\n",
              "    </tr>\n",
              "    <tr>\n",
              "      <th>3</th>\n",
              "      <td>LP001006</td>\n",
              "      <td>Male</td>\n",
              "      <td>Yes</td>\n",
              "      <td>0</td>\n",
              "      <td>Not Graduate</td>\n",
              "      <td>No</td>\n",
              "      <td>2583</td>\n",
              "      <td>2358.0</td>\n",
              "      <td>120.0</td>\n",
              "      <td>360.0</td>\n",
              "      <td>1.0</td>\n",
              "      <td>Urban</td>\n",
              "      <td>1</td>\n",
              "      <td>4941.0</td>\n",
              "      <td>High</td>\n",
              "      <td>Average</td>\n",
              "    </tr>\n",
              "    <tr>\n",
              "      <th>4</th>\n",
              "      <td>LP001008</td>\n",
              "      <td>Male</td>\n",
              "      <td>No</td>\n",
              "      <td>0</td>\n",
              "      <td>Graduate</td>\n",
              "      <td>No</td>\n",
              "      <td>6000</td>\n",
              "      <td>0.0</td>\n",
              "      <td>141.0</td>\n",
              "      <td>360.0</td>\n",
              "      <td>1.0</td>\n",
              "      <td>Urban</td>\n",
              "      <td>1</td>\n",
              "      <td>6000.0</td>\n",
              "      <td>High</td>\n",
              "      <td>Average</td>\n",
              "    </tr>\n",
              "  </tbody>\n",
              "</table>\n",
              "</div>"
            ],
            "text/plain": [
              "    Loan_ID Gender Married  ... Total_Income Total_Income_bin LoanAmount_bin\n",
              "0  LP001002   Male      No  ...       5849.0             High            NaN\n",
              "1  LP001003   Male     Yes  ...       6091.0        Very high        Average\n",
              "2  LP001005   Male     Yes  ...       3000.0          Average            Low\n",
              "3  LP001006   Male     Yes  ...       4941.0             High        Average\n",
              "4  LP001008   Male      No  ...       6000.0             High        Average\n",
              "\n",
              "[5 rows x 16 columns]"
            ]
          },
          "metadata": {
            "tags": []
          },
          "execution_count": 85
        }
      ]
    },
    {
      "cell_type": "markdown",
      "metadata": {
        "id": "whyWpMWBulDn",
        "colab_type": "text"
      },
      "source": [
        "### Missing value Imputation"
      ]
    },
    {
      "cell_type": "code",
      "metadata": {
        "id": "fMfQ7qj6USPY",
        "colab_type": "code",
        "colab": {}
      },
      "source": [
        "dataset['Gender'].fillna(dataset['Gender'].mode()[0], inplace=True)\n",
        "dataset['Married'].fillna(dataset['Married'].mode()[0], inplace=True)\n",
        "dataset['Dependents'].fillna(dataset['Dependents'].mode()[0], inplace=True)\n",
        "dataset['Self_Employed'].fillna(dataset['Self_Employed'].mode()[0], inplace=True)\n",
        "dataset['Loan_Amount_Term'].fillna(dataset['Loan_Amount_Term'].mode()[0], inplace=True)\n",
        "dataset['Credit_History'].fillna(dataset['Credit_History'].mode()[0], inplace=True)\n",
        "dataset['LoanAmount'].fillna(dataset['LoanAmount'].median(), inplace=True)\n"
      ],
      "execution_count": 86,
      "outputs": []
    },
    {
      "cell_type": "code",
      "metadata": {
        "id": "Hg-oN6YtVvid",
        "colab_type": "code",
        "colab": {
          "base_uri": "https://localhost:8080/",
          "height": 352
        },
        "outputId": "59c2e794-1762-4352-bdc6-59573452ea3c"
      },
      "source": [
        "sns.heatmap(dataset.isnull(),yticklabels=False, cmap='BuPu', cbar=False);"
      ],
      "execution_count": 87,
      "outputs": [
        {
          "output_type": "display_data",
          "data": {
            "image/png": "[encoded data removed]",
            "text/plain": [
              "<Figure size 432x288 with 1 Axes>"
            ]
          },
          "metadata": {
            "tags": [],
            "needs_background": "light"
          }
        }
      ]
    },
    {
      "cell_type": "markdown",
      "metadata": {
        "id": "TfcAIwCGurUr",
        "colab_type": "text"
      },
      "source": [
        "Verified that no more NA values exist in the dataset"
      ]
    },
    {
      "cell_type": "code",
      "metadata": {
        "id": "7kP3o9mavaH0",
        "colab_type": "code",
        "colab": {
          "base_uri": "https://localhost:8080/",
          "height": 282
        },
        "outputId": "953a94f5-c435-4fe8-f171-5b9c05fdd7e5"
      },
      "source": [
        "dataset['LoanAmount_log'] = np.log(dataset['LoanAmount'])\n",
        "dataset['LoanAmount_log'].hist(bins=20)\n"
      ],
      "execution_count": 88,
      "outputs": [
        {
          "output_type": "execute_result",
          "data": {
            "text/plain": [
              "<matplotlib.axes._subplots.AxesSubplot at 0x7fbcca6040b8>"
            ]
          },
          "metadata": {
            "tags": []
          },
          "execution_count": 88
        },
        {
          "output_type": "display_data",
          "data": {
            "image/png": "[encoded data removed]",
            "text/plain": [
              "<Figure size 432x288 with 1 Axes>"
            ]
          },
          "metadata": {
            "tags": [],
            "needs_background": "light"
          }
        }
      ]
    },
    {
      "cell_type": "markdown",
      "metadata": {
        "id": "AI5sCPKIwatO",
        "colab_type": "text"
      },
      "source": [
        "Log transformation makes the data seem more normal"
      ]
    },
    {
      "cell_type": "markdown",
      "metadata": {
        "id": "1y_MjhE2d8nj",
        "colab_type": "text"
      },
      "source": [
        "# Train Data"
      ]
    },
    {
      "cell_type": "code",
      "metadata": {
        "id": "xge78tKid_sq",
        "colab_type": "code",
        "colab": {}
      },
      "source": [
        "X = dataset.drop('Loan_Status',1)\n",
        "y = dataset.Loan_Status"
      ],
      "execution_count": 89,
      "outputs": []
    },
    {
      "cell_type": "code",
      "metadata": {
        "id": "X9vJEOHJ57Bg",
        "colab_type": "code",
        "colab": {}
      },
      "source": [
        "X=pd.get_dummies(X)\n",
        "#dataset=pd.get_dummies(dataset)"
      ],
      "execution_count": 90,
      "outputs": []
    },
    {
      "cell_type": "code",
      "metadata": {
        "id": "C7Sh0yABein6",
        "colab_type": "code",
        "colab": {}
      },
      "source": [
        "from sklearn.model_selection import train_test_split\n",
        "X_train, X_test, y_train, y_test = train_test_split(X, y, test_size=0.25, random_state=41)"
      ],
      "execution_count": 91,
      "outputs": []
    },
    {
      "cell_type": "code",
      "metadata": {
        "id": "vxcH1csigJXH",
        "colab_type": "code",
        "colab": {}
      },
      "source": [
        "from sklearn.linear_model import LogisticRegression"
      ],
      "execution_count": 92,
      "outputs": []
    },
    {
      "cell_type": "code",
      "metadata": {
        "id": "PTGsMLG6gLaZ",
        "colab_type": "code",
        "colab": {
          "base_uri": "https://localhost:8080/",
          "height": 102
        },
        "outputId": "508e76ee-8875-4c34-817d-7c6731a14303"
      },
      "source": [
        "model = LogisticRegression(max_iter=10000)\n",
        "model.fit(X_train, y_train)"
      ],
      "execution_count": 93,
      "outputs": [
        {
          "output_type": "execute_result",
          "data": {
            "text/plain": [
              "LogisticRegression(C=1.0, class_weight=None, dual=False, fit_intercept=True,\n",
              "                   intercept_scaling=1, l1_ratio=None, max_iter=10000,\n",
              "                   multi_class='auto', n_jobs=None, penalty='l2',\n",
              "                   random_state=None, solver='lbfgs', tol=0.0001, verbose=0,\n",
              "                   warm_start=False)"
            ]
          },
          "metadata": {
            "tags": []
          },
          "execution_count": 93
        }
      ]
    },
    {
      "cell_type": "code",
      "metadata": {
        "id": "J_OwX5_WiiEb",
        "colab_type": "code",
        "colab": {}
      },
      "source": [
        "predictions = model.predict(X_test)"
      ],
      "execution_count": 94,
      "outputs": []
    },
    {
      "cell_type": "code",
      "metadata": {
        "id": "dWOXt82LitWK",
        "colab_type": "code",
        "colab": {
          "base_uri": "https://localhost:8080/",
          "height": 69
        },
        "outputId": "ab0448d2-3dcb-41e0-a079-73afb19dc151"
      },
      "source": [
        "from sklearn.metrics import classification_report\n",
        "classification_report(y_test,predictions)"
      ],
      "execution_count": 95,
      "outputs": [
        {
          "output_type": "execute_result",
          "data": {
            "application/vnd.google.colaboratory.intrinsic+json": {
              "type": "string"
            },
            "text/plain": [
              "'              precision    recall  f1-score   support\\n\\n           0       0.86      0.45      0.59        53\\n           1       0.77      0.96      0.85       101\\n\\n    accuracy                           0.79       154\\n   macro avg       0.81      0.71      0.72       154\\nweighted avg       0.80      0.79      0.76       154\\n'"
            ]
          },
          "metadata": {
            "tags": []
          },
          "execution_count": 95
        }
      ]
    },
    {
      "cell_type": "code",
      "metadata": {
        "id": "-HLNUx6HjDzZ",
        "colab_type": "code",
        "colab": {
          "base_uri": "https://localhost:8080/",
          "height": 34
        },
        "outputId": "37601ede-1a7b-44d0-ba2c-7dadacab7c12"
      },
      "source": [
        "from sklearn.metrics import accuracy_score\n",
        "accuracy_score(y_test,predictions)"
      ],
      "execution_count": 96,
      "outputs": [
        {
          "output_type": "execute_result",
          "data": {
            "text/plain": [
              "0.7857142857142857"
            ]
          },
          "metadata": {
            "tags": []
          },
          "execution_count": 96
        }
      ]
    },
    {
      "cell_type": "markdown",
      "metadata": {
        "id": "Zf9mAHwFxZqB",
        "colab_type": "text"
      },
      "source": [
        "This model is giving ~78% accuracy for logistic regression"
      ]
    },
    {
      "cell_type": "code",
      "metadata": {
        "id": "uwAZNF1HjqI_",
        "colab_type": "code",
        "colab": {
          "base_uri": "https://localhost:8080/",
          "height": 51
        },
        "outputId": "6e491f5c-fc16-4dd7-958b-686b3a7a65e3"
      },
      "source": [
        "from sklearn.metrics import confusion_matrix\n",
        "confusion_matrix(y_test,predictions)"
      ],
      "execution_count": 97,
      "outputs": [
        {
          "output_type": "execute_result",
          "data": {
            "text/plain": [
              "array([[24, 29],\n",
              "       [ 4, 97]])"
            ]
          },
          "metadata": {
            "tags": []
          },
          "execution_count": 97
        }
      ]
    },
    {
      "cell_type": "markdown",
      "metadata": {
        "id": "q3gcuJ0jxloj",
        "colab_type": "text"
      },
      "source": [
        "Shown above is the corresponding confusion matrix"
      ]
    },
    {
      "cell_type": "code",
      "metadata": {
        "id": "z3bBQG7cobjy",
        "colab_type": "code",
        "colab": {}
      },
      "source": [
        "newdataset = pd.read_csv('https://raw.githubusercontent.com/vin33sh/dm/master/loan.csv');"
      ],
      "execution_count": 98,
      "outputs": []
    },
    {
      "cell_type": "markdown",
      "metadata": {
        "id": "Kb7bSJDY0i-M",
        "colab_type": "text"
      },
      "source": [
        "# Feature Engineering"
      ]
    },
    {
      "cell_type": "markdown",
      "metadata": {
        "id": "1sUPkIVM0o2k",
        "colab_type": "text"
      },
      "source": [
        "### Total Income "
      ]
    },
    {
      "cell_type": "code",
      "metadata": {
        "id": "bQU2k-kJ0tpc",
        "colab_type": "code",
        "colab": {}
      },
      "source": [
        "dataset['Total_Income']=dataset['ApplicantIncome']+dataset['CoapplicantIncome']"
      ],
      "execution_count": 99,
      "outputs": []
    },
    {
      "cell_type": "code",
      "metadata": {
        "id": "hWr7yVNm1c9-",
        "colab_type": "code",
        "colab": {
          "base_uri": "https://localhost:8080/",
          "height": 280
        },
        "outputId": "4bef79df-f253-4db3-822d-fe793ae27042"
      },
      "source": [
        "sns.distplot(dataset['Total_Income']);"
      ],
      "execution_count": 100,
      "outputs": [
        {
          "output_type": "display_data",
          "data": {
            "image/png": "[encoded data removed]",
            "text/plain": [
              "<Figure size 432x288 with 1 Axes>"
            ]
          },
          "metadata": {
            "tags": [],
            "needs_background": "light"
          }
        }
      ]
    },
    {
      "cell_type": "markdown",
      "metadata": {
        "id": "OhDQSKeJ1uaA",
        "colab_type": "text"
      },
      "source": [
        "Distribution is right skewed."
      ]
    },
    {
      "cell_type": "code",
      "metadata": {
        "id": "10TetQ3F1lLe",
        "colab_type": "code",
        "colab": {
          "base_uri": "https://localhost:8080/",
          "height": 280
        },
        "outputId": "7676a625-a715-4a82-d746-5b020d6f2b74"
      },
      "source": [
        "dataset['Total_Income_log'] = np.log(dataset['Total_Income'])\n",
        "sns.distplot(dataset['Total_Income_log']);"
      ],
      "execution_count": 101,
      "outputs": [
        {
          "output_type": "display_data",
          "data": {
            "image/png": "[encoded data removed]",
            "text/plain": [
              "<Figure size 432x288 with 1 Axes>"
            ]
          },
          "metadata": {
            "tags": [],
            "needs_background": "light"
          }
        }
      ]
    },
    {
      "cell_type": "markdown",
      "metadata": {
        "id": "dHBAzvK92C-7",
        "colab_type": "text"
      },
      "source": [
        "After applying log transformation it seems much more normalized"
      ]
    },
    {
      "cell_type": "markdown",
      "metadata": {
        "id": "s6M9J6Nm2K6F",
        "colab_type": "text"
      },
      "source": [
        "### EMI"
      ]
    },
    {
      "cell_type": "code",
      "metadata": {
        "id": "9-TOg_OA2QSH",
        "colab_type": "code",
        "colab": {
          "base_uri": "https://localhost:8080/",
          "height": 279
        },
        "outputId": "f525bdc2-fba3-4dda-ad63-9571adbe91f1"
      },
      "source": [
        "dataset['EMI']=dataset['LoanAmount']/dataset['Loan_Amount_Term']\n",
        "sns.distplot(dataset['EMI']);"
      ],
      "execution_count": 102,
      "outputs": [
        {
          "output_type": "display_data",
          "data": {
            "image/png": "[encoded data removed]",
            "text/plain": [
              "<Figure size 432x288 with 1 Axes>"
            ]
          },
          "metadata": {
            "tags": [],
            "needs_background": "light"
          }
        }
      ]
    },
    {
      "cell_type": "markdown",
      "metadata": {
        "id": "qVTe3hmt2imK",
        "colab_type": "text"
      },
      "source": [
        "### Balance Income"
      ]
    },
    {
      "cell_type": "code",
      "metadata": {
        "id": "TTlcuI7a2mop",
        "colab_type": "code",
        "colab": {
          "base_uri": "https://localhost:8080/",
          "height": 279
        },
        "outputId": "e0da2404-cf0e-48ed-d738-b75f20c7ce84"
      },
      "source": [
        "dataset['Balance Income']=dataset['Total_Income']-(dataset['EMI']*1000) # Multiply with 1000 to make the units equal \n",
        "sns.distplot(dataset['Balance Income']);"
      ],
      "execution_count": 103,
      "outputs": [
        {
          "output_type": "display_data",
          "data": {
            "image/png": "[encoded data removed]",
            "text/plain": [
              "<Figure size 432x288 with 1 Axes>"
            ]
          },
          "metadata": {
            "tags": [],
            "needs_background": "light"
          }
        }
      ]
    },
    {
      "cell_type": "markdown",
      "metadata": {
        "id": "J3nNlEpt4CFC",
        "colab_type": "text"
      },
      "source": [
        "Dropping all the used columns that were used to create new Features"
      ]
    },
    {
      "cell_type": "code",
      "metadata": {
        "id": "REqshJow25jD",
        "colab_type": "code",
        "colab": {
          "base_uri": "https://localhost:8080/",
          "height": 258
        },
        "outputId": "760ee003-d6b6-4662-a0eb-05a80e3ec35f"
      },
      "source": [
        "dataset=dataset.drop(['ApplicantIncome', 'CoapplicantIncome', 'LoanAmount', 'Loan_Amount_Term'], axis=1)\n",
        "dataset.head()"
      ],
      "execution_count": 104,
      "outputs": [
        {
          "output_type": "execute_result",
          "data": {
            "text/html": [
              "<div>\n",
              "<style scoped>\n",
              "    .dataframe tbody tr th:only-of-type {\n",
              "        vertical-align: middle;\n",
              "    }\n",
              "\n",
              "    .dataframe tbody tr th {\n",
              "        vertical-align: top;\n",
              "    }\n",
              "\n",
              "    .dataframe thead th {\n",
              "        text-align: right;\n",
              "    }\n",
              "</style>\n",
              "<table border=\"1\" class=\"dataframe\">\n",
              "  <thead>\n",
              "    <tr style=\"text-align: right;\">\n",
              "      <th></th>\n",
              "      <th>Loan_ID</th>\n",
              "      <th>Gender</th>\n",
              "      <th>Married</th>\n",
              "      <th>Dependents</th>\n",
              "      <th>Education</th>\n",
              "      <th>Self_Employed</th>\n",
              "      <th>Credit_History</th>\n",
              "      <th>Property_Area</th>\n",
              "      <th>Loan_Status</th>\n",
              "      <th>Total_Income</th>\n",
              "      <th>Total_Income_bin</th>\n",
              "      <th>LoanAmount_bin</th>\n",
              "      <th>LoanAmount_log</th>\n",
              "      <th>Total_Income_log</th>\n",
              "      <th>EMI</th>\n",
              "      <th>Balance Income</th>\n",
              "    </tr>\n",
              "  </thead>\n",
              "  <tbody>\n",
              "    <tr>\n",
              "      <th>0</th>\n",
              "      <td>LP001002</td>\n",
              "      <td>Male</td>\n",
              "      <td>No</td>\n",
              "      <td>0</td>\n",
              "      <td>Graduate</td>\n",
              "      <td>No</td>\n",
              "      <td>1.0</td>\n",
              "      <td>Urban</td>\n",
              "      <td>1</td>\n",
              "      <td>5849.0</td>\n",
              "      <td>High</td>\n",
              "      <td>NaN</td>\n",
              "      <td>4.852030</td>\n",
              "      <td>8.674026</td>\n",
              "      <td>0.355556</td>\n",
              "      <td>5493.444444</td>\n",
              "    </tr>\n",
              "    <tr>\n",
              "      <th>1</th>\n",
              "      <td>LP001003</td>\n",
              "      <td>Male</td>\n",
              "      <td>Yes</td>\n",
              "      <td>1</td>\n",
              "      <td>Graduate</td>\n",
              "      <td>No</td>\n",
              "      <td>1.0</td>\n",
              "      <td>Rural</td>\n",
              "      <td>0</td>\n",
              "      <td>6091.0</td>\n",
              "      <td>Very high</td>\n",
              "      <td>Average</td>\n",
              "      <td>4.852030</td>\n",
              "      <td>8.714568</td>\n",
              "      <td>0.355556</td>\n",
              "      <td>5735.444444</td>\n",
              "    </tr>\n",
              "    <tr>\n",
              "      <th>2</th>\n",
              "      <td>LP001005</td>\n",
              "      <td>Male</td>\n",
              "      <td>Yes</td>\n",
              "      <td>0</td>\n",
              "      <td>Graduate</td>\n",
              "      <td>Yes</td>\n",
              "      <td>1.0</td>\n",
              "      <td>Urban</td>\n",
              "      <td>1</td>\n",
              "      <td>3000.0</td>\n",
              "      <td>Average</td>\n",
              "      <td>Low</td>\n",
              "      <td>4.189655</td>\n",
              "      <td>8.006368</td>\n",
              "      <td>0.183333</td>\n",
              "      <td>2816.666667</td>\n",
              "    </tr>\n",
              "    <tr>\n",
              "      <th>3</th>\n",
              "      <td>LP001006</td>\n",
              "      <td>Male</td>\n",
              "      <td>Yes</td>\n",
              "      <td>0</td>\n",
              "      <td>Not Graduate</td>\n",
              "      <td>No</td>\n",
              "      <td>1.0</td>\n",
              "      <td>Urban</td>\n",
              "      <td>1</td>\n",
              "      <td>4941.0</td>\n",
              "      <td>High</td>\n",
              "      <td>Average</td>\n",
              "      <td>4.787492</td>\n",
              "      <td>8.505323</td>\n",
              "      <td>0.333333</td>\n",
              "      <td>4607.666667</td>\n",
              "    </tr>\n",
              "    <tr>\n",
              "      <th>4</th>\n",
              "      <td>LP001008</td>\n",
              "      <td>Male</td>\n",
              "      <td>No</td>\n",
              "      <td>0</td>\n",
              "      <td>Graduate</td>\n",
              "      <td>No</td>\n",
              "      <td>1.0</td>\n",
              "      <td>Urban</td>\n",
              "      <td>1</td>\n",
              "      <td>6000.0</td>\n",
              "      <td>High</td>\n",
              "      <td>Average</td>\n",
              "      <td>4.948760</td>\n",
              "      <td>8.699515</td>\n",
              "      <td>0.391667</td>\n",
              "      <td>5608.333333</td>\n",
              "    </tr>\n",
              "  </tbody>\n",
              "</table>\n",
              "</div>"
            ],
            "text/plain": [
              "    Loan_ID Gender Married  ... Total_Income_log       EMI Balance Income\n",
              "0  LP001002   Male      No  ...         8.674026  0.355556    5493.444444\n",
              "1  LP001003   Male     Yes  ...         8.714568  0.355556    5735.444444\n",
              "2  LP001005   Male     Yes  ...         8.006368  0.183333    2816.666667\n",
              "3  LP001006   Male     Yes  ...         8.505323  0.333333    4607.666667\n",
              "4  LP001008   Male      No  ...         8.699515  0.391667    5608.333333\n",
              "\n",
              "[5 rows x 16 columns]"
            ]
          },
          "metadata": {
            "tags": []
          },
          "execution_count": 104
        }
      ]
    },
    {
      "cell_type": "markdown",
      "metadata": {
        "id": "ITThkjRu2wzZ",
        "colab_type": "text"
      },
      "source": [
        "# Optimized Model Building"
      ]
    },
    {
      "cell_type": "code",
      "metadata": {
        "id": "1tdLkvct4YiG",
        "colab_type": "code",
        "colab": {}
      },
      "source": [
        "from sklearn.model_selection import StratifiedKFold\n"
      ],
      "execution_count": 105,
      "outputs": []
    },
    {
      "cell_type": "code",
      "metadata": {
        "id": "Ag5d6Q8A4aIh",
        "colab_type": "code",
        "colab": {
          "base_uri": "https://localhost:8080/",
          "height": 289
        },
        "outputId": "cfa4b863-cdfb-4355-93c9-80c52eca0906"
      },
      "source": [
        "i=1\n",
        "\n",
        "accuracy_scores = []\n",
        "\n",
        "kf = StratifiedKFold(n_splits=5,random_state=1,shuffle=True)\n",
        "for train_index,test_index in kf.split(X,y):\n",
        "     print('\\n{} of kfold {}'.format(i,kf.n_splits))\n",
        "     xtr,xvl = X.loc[train_index],X.loc[test_index]\n",
        "     ytr,yvl = y[train_index],y[test_index]\n",
        "    \n",
        "     model = LogisticRegression(random_state=1,max_iter=10000)\n",
        "     model.fit(xtr, ytr)\n",
        "     pred_test = model.predict(xvl)\n",
        "     score = accuracy_score(yvl,pred_test)\n",
        "     print('accuracy_score',score)\n",
        "     accuracy_scores.append(score)\n",
        "     i+=1\n",
        "\n",
        "print('Average accuracy : ', sum(accuracy_scores)/len(accuracy_scores))"
      ],
      "execution_count": 106,
      "outputs": [
        {
          "output_type": "stream",
          "text": [
            "\n",
            "1 of kfold 5\n",
            "accuracy_score 0.7967479674796748\n",
            "\n",
            "2 of kfold 5\n",
            "accuracy_score 0.8373983739837398\n",
            "\n",
            "3 of kfold 5\n",
            "accuracy_score 0.7560975609756098\n",
            "\n",
            "4 of kfold 5\n",
            "accuracy_score 0.8211382113821138\n",
            "\n",
            "5 of kfold 5\n",
            "accuracy_score 0.8032786885245902\n",
            "Average accuracy :  0.8029321604691457\n"
          ],
          "name": "stdout"
        }
      ]
    },
    {
      "cell_type": "markdown",
      "metadata": {
        "id": "RLGDFUMrIlRl",
        "colab_type": "text"
      },
      "source": [
        "\n",
        "\n",
        "---\n",
        "\n"
      ]
    },
    {
      "cell_type": "markdown",
      "metadata": {
        "id": "xk8CWgSKG6R3",
        "colab_type": "text"
      },
      "source": [
        "\n",
        "## There is an improvment of 2% (80.29%-78%) based on the new Features that were created above.\n",
        "\n"
      ]
    }
  ]
}
